{
 "cells": [
  {
   "cell_type": "markdown",
   "id": "71d59a7e-d32f-4902-ac88-f81f5b7e401d",
   "metadata": {},
   "source": [
    "Pre Trained Mask R-CNN model on the segmentation dataset\n",
    "Containing 170 images \n",
    "\n",
    "reference scripts for training object detection instance segmentation and person keypoint detection allows for easily supporting adding new custom datasets\n",
    "\n",
    "dataset inherits from the torch.utils.data.Dataset class and implement the __len__  and __getitem__\n",
    "\n",
    "image torchvision.tv_tensors.Image of shape [3,H,W] tensor or PIL image of size (H,W)\n",
    "\n",
    "target a dict containing the following fields\n",
    "boxes of shape [N,4]  with the coordinates [x0,y0,x1,y1]\n",
    "\n",
    "labels integer Tensor of shape [N] labels\n",
    "image_id image identifier which is unique\n",
    "area area of the bounding box \n",
    "iscrowd uint8 of shape [N] instance with iscrowd=True\n",
    "\n",
    "\n"
   ]
  },
  {
   "cell_type": "code",
   "execution_count": 2,
   "id": "6c1aaf31-7ebd-45ae-8c3d-f7e1e655a612",
   "metadata": {},
   "outputs": [
    {
     "name": "stdout",
     "output_type": "stream",
     "text": [
      "Collecting git+https://github.com/gautamchitnis/cocoapi.git@cocodataset-master#subdirectory=PythonAPI\n",
      "  Cloning https://github.com/gautamchitnis/cocoapi.git (to revision cocodataset-master) to c:\\users\\0108410711\\appdata\\local\\temp\\pip-req-build-_xhuzs00\n",
      "  Resolved https://github.com/gautamchitnis/cocoapi.git to commit 20291f19c46a8d11935862bc9e449a1b72ec25ed\n",
      "  Preparing metadata (setup.py): started\n",
      "  Preparing metadata (setup.py): finished with status 'error'\n"
     ]
    },
    {
     "name": "stderr",
     "output_type": "stream",
     "text": [
      "  Running command git clone --filter=blob:none --quiet https://github.com/gautamchitnis/cocoapi.git 'C:\\Users\\0108410711\\AppData\\Local\\Temp\\pip-req-build-_xhuzs00'\n",
      "  Running command git checkout -b cocodataset-master --track origin/cocodataset-master\n",
      "  branch 'cocodataset-master' set up to track 'origin/cocodataset-master'.\n",
      "  Switched to a new branch 'cocodataset-master'\n",
      "  error: subprocess-exited-with-error\n",
      "  \n",
      "  python setup.py egg_info did not run successfully.\n",
      "  exit code: 1\n",
      "  \n",
      "  [6 lines of output]\n",
      "  Traceback (most recent call last):\n",
      "    File \"<string>\", line 2, in <module>\n",
      "    File \"<pip-setuptools-caller>\", line 34, in <module>\n",
      "    File \"C:\\Users\\0108410711\\AppData\\Local\\Temp\\pip-req-build-_xhuzs00\\PythonAPI\\setup.py\", line 2, in <module>\n",
      "      from Cython.Build import cythonize\n",
      "  ModuleNotFoundError: No module named 'Cython'\n",
      "  [end of output]\n",
      "  \n",
      "  note: This error originates from a subprocess, and is likely not a problem with pip.\n",
      "error: metadata-generation-failed\n",
      "\n",
      "Encountered error while generating package metadata.\n",
      "\n",
      "See above for output.\n",
      "\n",
      "note: This is an issue with the package mentioned above, not pip.\n",
      "hint: See above for details.\n",
      "\n",
      "[notice] A new release of pip is available: 24.0 -> 24.2\n",
      "[notice] To update, run: python.exe -m pip install --upgrade pip\n"
     ]
    }
   ],
   "source": [
    "!pip install git+https://github.com/gautamchitnis/cocoapi.git@cocodataset-master#subdirectory=PythonAPI"
   ]
  },
  {
   "cell_type": "code",
   "execution_count": null,
   "id": "c367c17a-779b-47b8-96da-ff03b3b2c431",
   "metadata": {},
   "outputs": [],
   "source": [
    "#following the PyTorch model example for fine tuning the model"
   ]
  }
 ],
 "metadata": {
  "kernelspec": {
   "display_name": "Python 3 (ipykernel)",
   "language": "python",
   "name": "python3"
  },
  "language_info": {
   "codemirror_mode": {
    "name": "ipython",
    "version": 3
   },
   "file_extension": ".py",
   "mimetype": "text/x-python",
   "name": "python",
   "nbconvert_exporter": "python",
   "pygments_lexer": "ipython3",
   "version": "3.12.0"
  }
 },
 "nbformat": 4,
 "nbformat_minor": 5
}
