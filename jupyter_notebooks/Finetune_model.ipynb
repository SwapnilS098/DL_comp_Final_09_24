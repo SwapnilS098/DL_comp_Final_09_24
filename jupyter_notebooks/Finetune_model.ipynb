{
 "cells": [
  {
   "cell_type": "code",
   "execution_count": 1,
   "id": "6e8e31a0-1f87-455b-a8c2-8679653fd06a",
   "metadata": {},
   "outputs": [
    {
     "name": "stdout",
     "output_type": "stream",
     "text": [
      "torch version: 2.2.0+cu118\n",
      "torchvision version: 0.17.0+cu118\n"
     ]
    }
   ],
   "source": [
    "#first lets import the modules\n",
    "import math\n",
    "import io\n",
    "import os\n",
    "import torch\n",
    "import torchvision\n",
    "from torchvision import transforms\n",
    "print(\"torch version:\",torch.__version__)\n",
    "print(\"torchvision version:\",torchvision.__version__)\n",
    "from torchvision.utils import save_image\n",
    "import numpy as np\n",
    "import time\n",
    "\n",
    "from PIL import Image"
   ]
  },
  {
   "cell_type": "code",
   "execution_count": 2,
   "id": "4073d32f-5283-4d49-b9c3-a8593d18b762",
   "metadata": {},
   "outputs": [
    {
     "name": "stdout",
     "output_type": "stream",
     "text": [
      "cuda\n"
     ]
    }
   ],
   "source": [
    "#loading the model\n",
    "from compressai.zoo import bmshj2018_factorized_relu\n",
    "device = 'cuda' if torch.cuda.is_available() else 'cpu'\n",
    "#device=\"cpu\"\n",
    "print(device)"
   ]
  },
  {
   "cell_type": "code",
   "execution_count": null,
   "id": "3a7beaf2-02f9-4408-beca-fa39940dda02",
   "metadata": {},
   "outputs": [],
   "source": []
  },
  {
   "cell_type": "code",
   "execution_count": null,
   "id": "d6eb111d-158e-44aa-bd99-e11940b42ac8",
   "metadata": {},
   "outputs": [],
   "source": []
  }
 ],
 "metadata": {
  "kernelspec": {
   "display_name": "Python 3 (ipykernel)",
   "language": "python",
   "name": "python3"
  },
  "language_info": {
   "codemirror_mode": {
    "name": "ipython",
    "version": 3
   },
   "file_extension": ".py",
   "mimetype": "text/x-python",
   "name": "python",
   "nbconvert_exporter": "python",
   "pygments_lexer": "ipython3",
   "version": "3.12.0"
  }
 },
 "nbformat": 4,
 "nbformat_minor": 5
}
