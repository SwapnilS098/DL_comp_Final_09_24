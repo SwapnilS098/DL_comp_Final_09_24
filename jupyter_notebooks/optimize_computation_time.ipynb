{
 "cells": [
  {
   "cell_type": "code",
   "execution_count": 63,
   "id": "17b8c36a-c12b-495d-80ab-deccccc55e51",
   "metadata": {},
   "outputs": [
    {
     "name": "stdout",
     "output_type": "stream",
     "text": [
      "Setting up [LPIPS] perceptual loss: trunk [alex], v[0.1], spatial [off]\n",
      "Loading model from: C:\\Swapnil\\Narrowband_DRONE\\Image_compression_code\\Method_7_compress_ai\\compressAIenv\\Lib\\site-packages\\lpips\\weights\\v0.1\\alex.pth\n",
      "Setting up [LPIPS] perceptual loss: trunk [vgg], v[0.1], spatial [off]\n",
      "Loading model from: C:\\Swapnil\\Narrowband_DRONE\\Image_compression_code\\Method_7_compress_ai\\compressAIenv\\Lib\\site-packages\\lpips\\weights\\v0.1\\vgg.pth\n"
     ]
    }
   ],
   "source": [
    "import math \n",
    "import io\n",
    "import os\n",
    "import torch\n",
    "from torchvision import transforms\n",
    "from torchvision.utils import save_image\n",
    "import numpy as np\n",
    "from PIL import Image\n",
    "import matplotlib.pyplot as plt\n",
    "import pillow_avif\n",
    "\n",
    "from pytorch_msssim import ms_ssim\n",
    "from compressai.zoo import bmshj2018_hyperprior,mbt2018_mean,mbt2018,cheng2020_attn,cheng2020_anchor,bmshj2018_factorized\n",
    "\n",
    "from ipywidgets import interact,widgets\n",
    "from skimage.metrics import structural_similarity as ssim\n",
    "import cProfile\n",
    "import lpips\n",
    "loss_alex=lpips.LPIPS(net=\"alex\")\n",
    "loss_vgg=lpips.LPIPS(net=\"vgg\")"
   ]
  },
  {
   "cell_type": "code",
   "execution_count": 70,
   "id": "292e5e52-88b4-41ce-88a9-52d1bb866967",
   "metadata": {},
   "outputs": [
    {
     "name": "stdout",
     "output_type": "stream",
     "text": [
      "Device: cuda\n"
     ]
    }
   ],
   "source": [
    "device=\"cuda\" if torch.cuda.is_available() else \"cpu\"\n",
    "print(\"Device:\",device)\n",
    "\n",
    "dataset_path=r'C:\\Swapnil\\Narrowband_DRONE\\Drone_dataset_small_1'"
   ]
  },
  {
   "cell_type": "code",
   "execution_count": 71,
   "id": "6a775f51-2401-4bba-8a0a-978bcd5af562",
   "metadata": {},
   "outputs": [],
   "source": [
    "def DL_model(model_name,quality,metric):\n",
    "    \"\"\"\n",
    "    I/P: get the model_name,quality,metric\n",
    "    O/P: return the model\n",
    "    \"\"\"\n",
    "    #check the model name is valid or not\n",
    "    if model_name==\"bmshj2018_hyperprior\":\n",
    "        if quality>8 or quality<1 or metric not in [\"mse\",\"ms-ssim\"]:\n",
    "            return \n",
    "        else:\n",
    "            net=bmshj2018_hyperprior(quality=quality,metric=metric,pretrained=True).eval().to(device)\n",
    "            return net\n",
    "    elif model_name==\"mbt2018\":\n",
    "        if quality>8 or quality<1 or metric not in [\"mse\",\"ms-ssim\"]:\n",
    "            return \n",
    "        else:\n",
    "            net=mbt2018(quality=quality,metric=metric,pretrained=True).eval().to(device)\n",
    "            return net\n",
    "    elif model_name==\"mbt2018_mean\":\n",
    "        if quality>8 or quality<1 or metric not in [\"mse\",\"ms-ssim\"]:\n",
    "            return \n",
    "        else:\n",
    "            net=mbt2018_mean(quality=quality,metric=metric,pretrained=True).eval().to(device)\n",
    "            return net\n",
    "\n",
    "    elif model_name==\"cheng2020_attn\":\n",
    "        if quality>6 or quality<1 or metric not in [\"mse\",\"ms-ssim\"]:\n",
    "            return \n",
    "        else:\n",
    "            net=cheng2020_attn(quality=quality,metric=metric,pretrained=True).eval().to(device)\n",
    "            return net\n",
    "    elif model_name==\"cheng2020_anchor\":\n",
    "        if quality>6 or quality<1 or metric not in [\"mse\",\"ms-ssim\"]:\n",
    "            return \n",
    "        else:\n",
    "            net=cheng2020_anchor(quality=quality,metric=metric,pretrained=True).eval().to(device)\n",
    "            return net\n",
    "    else:\n",
    "        print(\"Invalid model name requested\")\n",
    "        return \n",
    "\n"
   ]
  },
  {
   "cell_type": "code",
   "execution_count": 97,
   "id": "4e0982e5-340e-4276-9404-deb747c7d0cb",
   "metadata": {},
   "outputs": [
    {
     "name": "stdout",
     "output_type": "stream",
     "text": [
      "Encoder Parameters :11816323\n"
     ]
    }
   ],
   "source": [
    "model_name=\"bmshj2018_hyperprior\"\n",
    "quality=8\n",
    "metric=\"ms-ssim\"\n",
    "net=DL_model(model_name,quality,metric)\n",
    "\n",
    "print(f\"Encoder Parameters :{sum(p.numel() for p in net.parameters())}\")\n"
   ]
  },
  {
   "cell_type": "code",
   "execution_count": 130,
   "id": "bb7b9b9e-31a9-49c6-8243-8339d813d5d1",
   "metadata": {},
   "outputs": [
    {
     "name": "stdout",
     "output_type": "stream",
     "text": [
      "FactorizedPrior(\n",
      "  (entropy_bottleneck): EntropyBottleneck(\n",
      "    (likelihood_lower_bound): LowerBound()\n",
      "    (matrices): ParameterList(\n",
      "        (0): Parameter containing: [torch.float32 of size 320x3x1]\n",
      "        (1): Parameter containing: [torch.float32 of size 320x3x3]\n",
      "        (2): Parameter containing: [torch.float32 of size 320x3x3]\n",
      "        (3): Parameter containing: [torch.float32 of size 320x3x3]\n",
      "        (4): Parameter containing: [torch.float32 of size 320x1x3]\n",
      "    )\n",
      "    (biases): ParameterList(\n",
      "        (0): Parameter containing: [torch.float32 of size 320x3x1]\n",
      "        (1): Parameter containing: [torch.float32 of size 320x3x1]\n",
      "        (2): Parameter containing: [torch.float32 of size 320x3x1]\n",
      "        (3): Parameter containing: [torch.float32 of size 320x3x1]\n",
      "        (4): Parameter containing: [torch.float32 of size 320x1x1]\n",
      "    )\n",
      "    (factors): ParameterList(\n",
      "        (0): Parameter containing: [torch.float32 of size 320x3x1]\n",
      "        (1): Parameter containing: [torch.float32 of size 320x3x1]\n",
      "        (2): Parameter containing: [torch.float32 of size 320x3x1]\n",
      "        (3): Parameter containing: [torch.float32 of size 320x3x1]\n",
      "    )\n",
      "  )\n",
      "  (g_a): Sequential(\n",
      "    (0): Conv2d(3, 192, kernel_size=(5, 5), stride=(2, 2), padding=(2, 2))\n",
      "    (1): GDN(\n",
      "      (beta_reparam): NonNegativeParametrizer(\n",
      "        (lower_bound): LowerBound()\n",
      "      )\n",
      "      (gamma_reparam): NonNegativeParametrizer(\n",
      "        (lower_bound): LowerBound()\n",
      "      )\n",
      "    )\n",
      "    (2): Conv2d(192, 192, kernel_size=(5, 5), stride=(2, 2), padding=(2, 2))\n",
      "    (3): GDN(\n",
      "      (beta_reparam): NonNegativeParametrizer(\n",
      "        (lower_bound): LowerBound()\n",
      "      )\n",
      "      (gamma_reparam): NonNegativeParametrizer(\n",
      "        (lower_bound): LowerBound()\n",
      "      )\n",
      "    )\n",
      "    (4): Conv2d(192, 192, kernel_size=(5, 5), stride=(2, 2), padding=(2, 2))\n",
      "    (5): GDN(\n",
      "      (beta_reparam): NonNegativeParametrizer(\n",
      "        (lower_bound): LowerBound()\n",
      "      )\n",
      "      (gamma_reparam): NonNegativeParametrizer(\n",
      "        (lower_bound): LowerBound()\n",
      "      )\n",
      "    )\n",
      "    (6): Conv2d(192, 320, kernel_size=(5, 5), stride=(2, 2), padding=(2, 2))\n",
      "  )\n",
      "  (g_s): Sequential(\n",
      "    (0): ConvTranspose2d(320, 192, kernel_size=(5, 5), stride=(2, 2), padding=(2, 2), output_padding=(1, 1))\n",
      "    (1): GDN(\n",
      "      (beta_reparam): NonNegativeParametrizer(\n",
      "        (lower_bound): LowerBound()\n",
      "      )\n",
      "      (gamma_reparam): NonNegativeParametrizer(\n",
      "        (lower_bound): LowerBound()\n",
      "      )\n",
      "    )\n",
      "    (2): ConvTranspose2d(192, 192, kernel_size=(5, 5), stride=(2, 2), padding=(2, 2), output_padding=(1, 1))\n",
      "    (3): GDN(\n",
      "      (beta_reparam): NonNegativeParametrizer(\n",
      "        (lower_bound): LowerBound()\n",
      "      )\n",
      "      (gamma_reparam): NonNegativeParametrizer(\n",
      "        (lower_bound): LowerBound()\n",
      "      )\n",
      "    )\n",
      "    (4): ConvTranspose2d(192, 192, kernel_size=(5, 5), stride=(2, 2), padding=(2, 2), output_padding=(1, 1))\n",
      "    (5): GDN(\n",
      "      (beta_reparam): NonNegativeParametrizer(\n",
      "        (lower_bound): LowerBound()\n",
      "      )\n",
      "      (gamma_reparam): NonNegativeParametrizer(\n",
      "        (lower_bound): LowerBound()\n",
      "      )\n",
      "    )\n",
      "    (6): ConvTranspose2d(192, 3, kernel_size=(5, 5), stride=(2, 2), padding=(2, 2), output_padding=(1, 1))\n",
      "  )\n",
      ")\n"
     ]
    }
   ],
   "source": [
    "#PyTorch Model quantization\n",
    "model=bmshj2018_factorized(quality=8,metric=\"ms-ssim\")\n",
    "import torch.quantization as quant\n",
    "from torch.ao.quantization import QuantStub, DeQuantStub\n",
    "print(model)\n",
    "#model.eval()\n",
    "#model.qconfig = torch.ao.quantization.default_qconfig\n",
    "#print(model.qconfig)\n",
    "#torch.ao.quantization.prepare(model, inplace=True)\n",
    "#model.to(device)\n",
    "\n",
    "#Quantization attempt failed "
   ]
  },
  {
   "cell_type": "code",
   "execution_count": 129,
   "id": "b0903c62-8371-4e8e-ae32-089eb55b2355",
   "metadata": {},
   "outputs": [
    {
     "name": "stdout",
     "output_type": "stream",
     "text": [
      "In path: C:\\Swapnil\\Narrowband_DRONE\\Drone_dataset_small_1\n",
      "Files: 6\n",
      "Images are in format: jpg count: 4\n"
     ]
    },
    {
     "ename": "RuntimeError",
     "evalue": "Input type (torch.cuda.FloatTensor) and weight type (torch.FloatTensor) should be the same",
     "output_type": "error",
     "traceback": [
      "\u001b[1;31m---------------------------------------------------------------------------\u001b[0m",
      "\u001b[1;31mRuntimeError\u001b[0m                              Traceback (most recent call last)",
      "Cell \u001b[1;32mIn[129], line 5\u001b[0m\n\u001b[0;32m      3\u001b[0m x\u001b[38;5;241m=\u001b[39mtransforms\u001b[38;5;241m.\u001b[39mToTensor()(image)\u001b[38;5;241m.\u001b[39munsqueeze(\u001b[38;5;241m0\u001b[39m)\u001b[38;5;241m.\u001b[39mto(device)\n\u001b[0;32m      4\u001b[0m \u001b[38;5;28;01mwith\u001b[39;00m torch\u001b[38;5;241m.\u001b[39mno_grad():\n\u001b[1;32m----> 5\u001b[0m     out_net_\u001b[38;5;241m=\u001b[39m\u001b[43mmodel\u001b[49m\u001b[38;5;241;43m.\u001b[39;49m\u001b[43mforward\u001b[49m\u001b[43m(\u001b[49m\u001b[43mx\u001b[49m\u001b[43m)\u001b[49m\n\u001b[0;32m      6\u001b[0m \u001b[38;5;66;03m#out_net_['x_hat'].clamp(0,1)\u001b[39;00m\n\u001b[0;32m      7\u001b[0m export_name\u001b[38;5;241m=\u001b[39mimages[\u001b[38;5;241m0\u001b[39m]\u001b[38;5;241m.\u001b[39msplit(\u001b[38;5;124m'\u001b[39m\u001b[38;5;124m.\u001b[39m\u001b[38;5;124m'\u001b[39m)[\u001b[38;5;241m0\u001b[39m]\u001b[38;5;241m+\u001b[39m\u001b[38;5;124m\"\u001b[39m\u001b[38;5;124mQUANT_c.webp\u001b[39m\u001b[38;5;124m\"\u001b[39m\n",
      "File \u001b[1;32mC:\\Swapnil\\Narrowband_DRONE\\Image_compression_code\\Method_7_compress_ai\\compressai\\compressai\\models\\google.py:134\u001b[0m, in \u001b[0;36mFactorizedPrior.forward\u001b[1;34m(self, x)\u001b[0m\n\u001b[0;32m    133\u001b[0m \u001b[38;5;28;01mdef\u001b[39;00m \u001b[38;5;21mforward\u001b[39m(\u001b[38;5;28mself\u001b[39m, x):\n\u001b[1;32m--> 134\u001b[0m     y \u001b[38;5;241m=\u001b[39m \u001b[38;5;28;43mself\u001b[39;49m\u001b[38;5;241;43m.\u001b[39;49m\u001b[43mg_a\u001b[49m\u001b[43m(\u001b[49m\u001b[43mx\u001b[49m\u001b[43m)\u001b[49m\n\u001b[0;32m    135\u001b[0m     y_hat, y_likelihoods \u001b[38;5;241m=\u001b[39m \u001b[38;5;28mself\u001b[39m\u001b[38;5;241m.\u001b[39mentropy_bottleneck(y)\n\u001b[0;32m    136\u001b[0m     x_hat \u001b[38;5;241m=\u001b[39m \u001b[38;5;28mself\u001b[39m\u001b[38;5;241m.\u001b[39mg_s(y_hat)\n",
      "File \u001b[1;32mC:\\Swapnil\\Narrowband_DRONE\\Image_compression_code\\Method_7_compress_ai\\compressAIenv\\Lib\\site-packages\\torch\\nn\\modules\\module.py:1511\u001b[0m, in \u001b[0;36mModule._wrapped_call_impl\u001b[1;34m(self, *args, **kwargs)\u001b[0m\n\u001b[0;32m   1509\u001b[0m     \u001b[38;5;28;01mreturn\u001b[39;00m \u001b[38;5;28mself\u001b[39m\u001b[38;5;241m.\u001b[39m_compiled_call_impl(\u001b[38;5;241m*\u001b[39margs, \u001b[38;5;241m*\u001b[39m\u001b[38;5;241m*\u001b[39mkwargs)  \u001b[38;5;66;03m# type: ignore[misc]\u001b[39;00m\n\u001b[0;32m   1510\u001b[0m \u001b[38;5;28;01melse\u001b[39;00m:\n\u001b[1;32m-> 1511\u001b[0m     \u001b[38;5;28;01mreturn\u001b[39;00m \u001b[38;5;28;43mself\u001b[39;49m\u001b[38;5;241;43m.\u001b[39;49m\u001b[43m_call_impl\u001b[49m\u001b[43m(\u001b[49m\u001b[38;5;241;43m*\u001b[39;49m\u001b[43margs\u001b[49m\u001b[43m,\u001b[49m\u001b[43m \u001b[49m\u001b[38;5;241;43m*\u001b[39;49m\u001b[38;5;241;43m*\u001b[39;49m\u001b[43mkwargs\u001b[49m\u001b[43m)\u001b[49m\n",
      "File \u001b[1;32mC:\\Swapnil\\Narrowband_DRONE\\Image_compression_code\\Method_7_compress_ai\\compressAIenv\\Lib\\site-packages\\torch\\nn\\modules\\module.py:1520\u001b[0m, in \u001b[0;36mModule._call_impl\u001b[1;34m(self, *args, **kwargs)\u001b[0m\n\u001b[0;32m   1515\u001b[0m \u001b[38;5;66;03m# If we don't have any hooks, we want to skip the rest of the logic in\u001b[39;00m\n\u001b[0;32m   1516\u001b[0m \u001b[38;5;66;03m# this function, and just call forward.\u001b[39;00m\n\u001b[0;32m   1517\u001b[0m \u001b[38;5;28;01mif\u001b[39;00m \u001b[38;5;129;01mnot\u001b[39;00m (\u001b[38;5;28mself\u001b[39m\u001b[38;5;241m.\u001b[39m_backward_hooks \u001b[38;5;129;01mor\u001b[39;00m \u001b[38;5;28mself\u001b[39m\u001b[38;5;241m.\u001b[39m_backward_pre_hooks \u001b[38;5;129;01mor\u001b[39;00m \u001b[38;5;28mself\u001b[39m\u001b[38;5;241m.\u001b[39m_forward_hooks \u001b[38;5;129;01mor\u001b[39;00m \u001b[38;5;28mself\u001b[39m\u001b[38;5;241m.\u001b[39m_forward_pre_hooks\n\u001b[0;32m   1518\u001b[0m         \u001b[38;5;129;01mor\u001b[39;00m _global_backward_pre_hooks \u001b[38;5;129;01mor\u001b[39;00m _global_backward_hooks\n\u001b[0;32m   1519\u001b[0m         \u001b[38;5;129;01mor\u001b[39;00m _global_forward_hooks \u001b[38;5;129;01mor\u001b[39;00m _global_forward_pre_hooks):\n\u001b[1;32m-> 1520\u001b[0m     \u001b[38;5;28;01mreturn\u001b[39;00m \u001b[43mforward_call\u001b[49m\u001b[43m(\u001b[49m\u001b[38;5;241;43m*\u001b[39;49m\u001b[43margs\u001b[49m\u001b[43m,\u001b[49m\u001b[43m \u001b[49m\u001b[38;5;241;43m*\u001b[39;49m\u001b[38;5;241;43m*\u001b[39;49m\u001b[43mkwargs\u001b[49m\u001b[43m)\u001b[49m\n\u001b[0;32m   1522\u001b[0m \u001b[38;5;28;01mtry\u001b[39;00m:\n\u001b[0;32m   1523\u001b[0m     result \u001b[38;5;241m=\u001b[39m \u001b[38;5;28;01mNone\u001b[39;00m\n",
      "File \u001b[1;32mC:\\Swapnil\\Narrowband_DRONE\\Image_compression_code\\Method_7_compress_ai\\compressAIenv\\Lib\\site-packages\\torch\\nn\\modules\\container.py:217\u001b[0m, in \u001b[0;36mSequential.forward\u001b[1;34m(self, input)\u001b[0m\n\u001b[0;32m    215\u001b[0m \u001b[38;5;28;01mdef\u001b[39;00m \u001b[38;5;21mforward\u001b[39m(\u001b[38;5;28mself\u001b[39m, \u001b[38;5;28minput\u001b[39m):\n\u001b[0;32m    216\u001b[0m     \u001b[38;5;28;01mfor\u001b[39;00m module \u001b[38;5;129;01min\u001b[39;00m \u001b[38;5;28mself\u001b[39m:\n\u001b[1;32m--> 217\u001b[0m         \u001b[38;5;28minput\u001b[39m \u001b[38;5;241m=\u001b[39m \u001b[43mmodule\u001b[49m\u001b[43m(\u001b[49m\u001b[38;5;28;43minput\u001b[39;49m\u001b[43m)\u001b[49m\n\u001b[0;32m    218\u001b[0m     \u001b[38;5;28;01mreturn\u001b[39;00m \u001b[38;5;28minput\u001b[39m\n",
      "File \u001b[1;32mC:\\Swapnil\\Narrowband_DRONE\\Image_compression_code\\Method_7_compress_ai\\compressAIenv\\Lib\\site-packages\\torch\\nn\\modules\\module.py:1511\u001b[0m, in \u001b[0;36mModule._wrapped_call_impl\u001b[1;34m(self, *args, **kwargs)\u001b[0m\n\u001b[0;32m   1509\u001b[0m     \u001b[38;5;28;01mreturn\u001b[39;00m \u001b[38;5;28mself\u001b[39m\u001b[38;5;241m.\u001b[39m_compiled_call_impl(\u001b[38;5;241m*\u001b[39margs, \u001b[38;5;241m*\u001b[39m\u001b[38;5;241m*\u001b[39mkwargs)  \u001b[38;5;66;03m# type: ignore[misc]\u001b[39;00m\n\u001b[0;32m   1510\u001b[0m \u001b[38;5;28;01melse\u001b[39;00m:\n\u001b[1;32m-> 1511\u001b[0m     \u001b[38;5;28;01mreturn\u001b[39;00m \u001b[38;5;28;43mself\u001b[39;49m\u001b[38;5;241;43m.\u001b[39;49m\u001b[43m_call_impl\u001b[49m\u001b[43m(\u001b[49m\u001b[38;5;241;43m*\u001b[39;49m\u001b[43margs\u001b[49m\u001b[43m,\u001b[49m\u001b[43m \u001b[49m\u001b[38;5;241;43m*\u001b[39;49m\u001b[38;5;241;43m*\u001b[39;49m\u001b[43mkwargs\u001b[49m\u001b[43m)\u001b[49m\n",
      "File \u001b[1;32mC:\\Swapnil\\Narrowband_DRONE\\Image_compression_code\\Method_7_compress_ai\\compressAIenv\\Lib\\site-packages\\torch\\nn\\modules\\module.py:1520\u001b[0m, in \u001b[0;36mModule._call_impl\u001b[1;34m(self, *args, **kwargs)\u001b[0m\n\u001b[0;32m   1515\u001b[0m \u001b[38;5;66;03m# If we don't have any hooks, we want to skip the rest of the logic in\u001b[39;00m\n\u001b[0;32m   1516\u001b[0m \u001b[38;5;66;03m# this function, and just call forward.\u001b[39;00m\n\u001b[0;32m   1517\u001b[0m \u001b[38;5;28;01mif\u001b[39;00m \u001b[38;5;129;01mnot\u001b[39;00m (\u001b[38;5;28mself\u001b[39m\u001b[38;5;241m.\u001b[39m_backward_hooks \u001b[38;5;129;01mor\u001b[39;00m \u001b[38;5;28mself\u001b[39m\u001b[38;5;241m.\u001b[39m_backward_pre_hooks \u001b[38;5;129;01mor\u001b[39;00m \u001b[38;5;28mself\u001b[39m\u001b[38;5;241m.\u001b[39m_forward_hooks \u001b[38;5;129;01mor\u001b[39;00m \u001b[38;5;28mself\u001b[39m\u001b[38;5;241m.\u001b[39m_forward_pre_hooks\n\u001b[0;32m   1518\u001b[0m         \u001b[38;5;129;01mor\u001b[39;00m _global_backward_pre_hooks \u001b[38;5;129;01mor\u001b[39;00m _global_backward_hooks\n\u001b[0;32m   1519\u001b[0m         \u001b[38;5;129;01mor\u001b[39;00m _global_forward_hooks \u001b[38;5;129;01mor\u001b[39;00m _global_forward_pre_hooks):\n\u001b[1;32m-> 1520\u001b[0m     \u001b[38;5;28;01mreturn\u001b[39;00m \u001b[43mforward_call\u001b[49m\u001b[43m(\u001b[49m\u001b[38;5;241;43m*\u001b[39;49m\u001b[43margs\u001b[49m\u001b[43m,\u001b[49m\u001b[43m \u001b[49m\u001b[38;5;241;43m*\u001b[39;49m\u001b[38;5;241;43m*\u001b[39;49m\u001b[43mkwargs\u001b[49m\u001b[43m)\u001b[49m\n\u001b[0;32m   1522\u001b[0m \u001b[38;5;28;01mtry\u001b[39;00m:\n\u001b[0;32m   1523\u001b[0m     result \u001b[38;5;241m=\u001b[39m \u001b[38;5;28;01mNone\u001b[39;00m\n",
      "File \u001b[1;32mC:\\Swapnil\\Narrowband_DRONE\\Image_compression_code\\Method_7_compress_ai\\compressAIenv\\Lib\\site-packages\\torch\\nn\\modules\\conv.py:460\u001b[0m, in \u001b[0;36mConv2d.forward\u001b[1;34m(self, input)\u001b[0m\n\u001b[0;32m    459\u001b[0m \u001b[38;5;28;01mdef\u001b[39;00m \u001b[38;5;21mforward\u001b[39m(\u001b[38;5;28mself\u001b[39m, \u001b[38;5;28minput\u001b[39m: Tensor) \u001b[38;5;241m-\u001b[39m\u001b[38;5;241m>\u001b[39m Tensor:\n\u001b[1;32m--> 460\u001b[0m     \u001b[38;5;28;01mreturn\u001b[39;00m \u001b[38;5;28;43mself\u001b[39;49m\u001b[38;5;241;43m.\u001b[39;49m\u001b[43m_conv_forward\u001b[49m\u001b[43m(\u001b[49m\u001b[38;5;28;43minput\u001b[39;49m\u001b[43m,\u001b[49m\u001b[43m \u001b[49m\u001b[38;5;28;43mself\u001b[39;49m\u001b[38;5;241;43m.\u001b[39;49m\u001b[43mweight\u001b[49m\u001b[43m,\u001b[49m\u001b[43m \u001b[49m\u001b[38;5;28;43mself\u001b[39;49m\u001b[38;5;241;43m.\u001b[39;49m\u001b[43mbias\u001b[49m\u001b[43m)\u001b[49m\n",
      "File \u001b[1;32mC:\\Swapnil\\Narrowband_DRONE\\Image_compression_code\\Method_7_compress_ai\\compressAIenv\\Lib\\site-packages\\torch\\nn\\modules\\conv.py:456\u001b[0m, in \u001b[0;36mConv2d._conv_forward\u001b[1;34m(self, input, weight, bias)\u001b[0m\n\u001b[0;32m    452\u001b[0m \u001b[38;5;28;01mif\u001b[39;00m \u001b[38;5;28mself\u001b[39m\u001b[38;5;241m.\u001b[39mpadding_mode \u001b[38;5;241m!=\u001b[39m \u001b[38;5;124m'\u001b[39m\u001b[38;5;124mzeros\u001b[39m\u001b[38;5;124m'\u001b[39m:\n\u001b[0;32m    453\u001b[0m     \u001b[38;5;28;01mreturn\u001b[39;00m F\u001b[38;5;241m.\u001b[39mconv2d(F\u001b[38;5;241m.\u001b[39mpad(\u001b[38;5;28minput\u001b[39m, \u001b[38;5;28mself\u001b[39m\u001b[38;5;241m.\u001b[39m_reversed_padding_repeated_twice, mode\u001b[38;5;241m=\u001b[39m\u001b[38;5;28mself\u001b[39m\u001b[38;5;241m.\u001b[39mpadding_mode),\n\u001b[0;32m    454\u001b[0m                     weight, bias, \u001b[38;5;28mself\u001b[39m\u001b[38;5;241m.\u001b[39mstride,\n\u001b[0;32m    455\u001b[0m                     _pair(\u001b[38;5;241m0\u001b[39m), \u001b[38;5;28mself\u001b[39m\u001b[38;5;241m.\u001b[39mdilation, \u001b[38;5;28mself\u001b[39m\u001b[38;5;241m.\u001b[39mgroups)\n\u001b[1;32m--> 456\u001b[0m \u001b[38;5;28;01mreturn\u001b[39;00m \u001b[43mF\u001b[49m\u001b[38;5;241;43m.\u001b[39;49m\u001b[43mconv2d\u001b[49m\u001b[43m(\u001b[49m\u001b[38;5;28;43minput\u001b[39;49m\u001b[43m,\u001b[49m\u001b[43m \u001b[49m\u001b[43mweight\u001b[49m\u001b[43m,\u001b[49m\u001b[43m \u001b[49m\u001b[43mbias\u001b[49m\u001b[43m,\u001b[49m\u001b[43m \u001b[49m\u001b[38;5;28;43mself\u001b[39;49m\u001b[38;5;241;43m.\u001b[39;49m\u001b[43mstride\u001b[49m\u001b[43m,\u001b[49m\n\u001b[0;32m    457\u001b[0m \u001b[43m                \u001b[49m\u001b[38;5;28;43mself\u001b[39;49m\u001b[38;5;241;43m.\u001b[39;49m\u001b[43mpadding\u001b[49m\u001b[43m,\u001b[49m\u001b[43m \u001b[49m\u001b[38;5;28;43mself\u001b[39;49m\u001b[38;5;241;43m.\u001b[39;49m\u001b[43mdilation\u001b[49m\u001b[43m,\u001b[49m\u001b[43m \u001b[49m\u001b[38;5;28;43mself\u001b[39;49m\u001b[38;5;241;43m.\u001b[39;49m\u001b[43mgroups\u001b[49m\u001b[43m)\u001b[49m\n",
      "\u001b[1;31mRuntimeError\u001b[0m: Input type (torch.cuda.FloatTensor) and weight type (torch.FloatTensor) should be the same"
     ]
    }
   ],
   "source": [
    "\n",
    "#images=file_handling(dataset_path)\n",
    "#image=Image.open(os.path.join(dataset_path,images[0]))\n",
    "#x=transforms.ToTensor()(image).unsqueeze(0).to(device)\n",
    "#with torch.no_grad():\n",
    "#    out_net_=model.forward(x)\n",
    "#out_net_['x_hat'].clamp(0,1)\n",
    "#export_name=images[0].split('.')[0]+\"QUANT_c.webp\"\n",
    "#export_name=os.path.join(dataset_path,export_name)\n",
    "#save_image(out_net_['x_hat'],export_name)"
   ]
  },
  {
   "cell_type": "code",
   "execution_count": 128,
   "id": "ba5ebd81-dfe2-48c6-8d42-7d17566a8a14",
   "metadata": {},
   "outputs": [],
   "source": [
    "#pip install tensorflow"
   ]
  },
  {
   "cell_type": "code",
   "execution_count": 133,
   "id": "720ccac1-edbc-41d3-8bf6-b32cec6b5cf0",
   "metadata": {},
   "outputs": [
    {
     "name": "stdout",
     "output_type": "stream",
     "text": [
      "Error during ONNX export: [enforce fail at alloc_cpu.cpp:114] data. DefaultCPUAllocator: not enough memory: you tried to allocate 1194393600 bytes.\n",
      "Error during TFLite conversion: No module named 'distutils'\n"
     ]
    }
   ],
   "source": [
    "\n",
    "import torch.onnx\n",
    "\n",
    "# Assuming you have a pre-trained model instance `model`\n",
    "# and a way to get the input shape (check model documentation)\n",
    "def get_input_shape(model):\n",
    "  # Replace this with your logic to get the input shape\n",
    "  # based on the model definition or documentation\n",
    "  return (1, 3, 3840, 2160)  # Example 4K color image\n",
    "\n",
    "# Create dummy input based on the retrieved shape\n",
    "# Assuming input shape is (channels, height, width)\n",
    "input_shape = get_input_shape(model)  # Replace with your logic\n",
    "dummy_input = torch.randn(3, *input_shape[1:])  # Remove the first dimension (1)\n",
    "\n",
    "\n",
    "try:\n",
    "  # Attempt ONNX export\n",
    "  torch.onnx.export(model, dummy_input, \"model.onnx\", opset_version=12)\n",
    "  print(\"Successfully exported model to model.onnx\")\n",
    "except RuntimeError as e:\n",
    "  print(f\"Error during ONNX export: {e}\")\n",
    "  # Handle potential errors during export (e.g., unsupported ops)\n",
    "\n",
    "# Optional: Convert ONNX to TFLite (if export successful)\n",
    "try:\n",
    "  import tensorflow as tf\n",
    "\n",
    "  converter = tf.lite.TFLiteConverter.from_keras_model(None)  # No Keras model assumed\n",
    "  converter.optimizations = [tf.lite.Optimize.DEFAULT]\n",
    "  converter.inference_input_types = [dummy_input.dtype]  # Set input type\n",
    "\n",
    "  # Load the ONNX model (if export succeeded)\n",
    "  with open(\"model.onnx\", \"rb\") as f:\n",
    "    converter.graph_def = f.read()\n",
    "\n",
    "  tflite_model = converter.convert()\n",
    "\n",
    "  # Save the TFLite model\n",
    "  with open(\"model.tflite\", \"wb\") as f:\n",
    "    f.write(tflite_model)\n",
    "  print(\"Successfully converted model to model.tflite\")\n",
    "except Exception as e:\n",
    "  print(f\"Error during TFLite conversion: {e}\")\n",
    "  # Handle potential errors during conversion (e.g., unsupported ops)\n"
   ]
  },
  {
   "cell_type": "code",
   "execution_count": null,
   "id": "6868b2d3-93e7-439f-ae1c-bbc3e18647ba",
   "metadata": {},
   "outputs": [],
   "source": [
    "from enum import Enum\n",
    "\n",
    "class InputType(Enum):\n",
    "  FLOAT32 = \"FLOAT32\"\n",
    "  UINT8 = \"UINT8\"\n",
    "\n",
    "# Specify the input type based on your TFLite model (FLOAT32 or UINT8)\n",
    "input_type = InputType.FLOAT32\n",
    "\n",
    "# Load the TFLite model\n",
    "interpreter = torch.jit.load(\"model.tflite\")\n",
    "\n",
    "# Define the input tensor (replace with your actual input data)\n",
    "input_tensor = torch.randn(1, *input_shape)\n",
    "if input_type == InputType.UINT8:\n",
    "  input_tensor = input_tensor.quantize(dtype=torch.uint8)\n",
    "\n",
    "# Set the input tensor\n",
    "interpreter.set_input_tensor(0, input_tensor)\n",
    "\n",
    "# Run inference\n",
    "interpreter.invoke()\n",
    "\n",
    "# Get the output tensor\n",
    "output_tensor = interpreter.get_output_tensor(0)\n",
    "\n",
    "# Do something with the output (e.g., print, further processing)\n",
    "print(output_tensor)"
   ]
  },
  {
   "cell_type": "code",
   "execution_count": 74,
   "id": "39c7059a-c726-4112-a224-e31a1c97abf6",
   "metadata": {},
   "outputs": [
    {
     "name": "stdout",
     "output_type": "stream",
     "text": [
      "In path: C:\\Swapnil\\Narrowband_DRONE\\Drone_dataset_small_1\n",
      "Files: 5\n",
      "Images are in format: jpg count: 3\n"
     ]
    },
    {
     "data": {
      "text/plain": [
       "['sample.jpg', 'Test_img.jpg', 'tokyo_tower.jpg']"
      ]
     },
     "execution_count": 74,
     "metadata": {},
     "output_type": "execute_result"
    }
   ],
   "source": [
    "\n",
    "def file_handling(path):\n",
    "\n",
    "    files=os.listdir(path)\n",
    "    print(\"In path:\",path)\n",
    "    print(\"Files:\",len(files))\n",
    "    images=[]\n",
    "    image_formats=[\".jpg\",\".jpeg\",\".png\",\".webp\",\".avif\"]\n",
    "    for file in files:\n",
    "        if file.lower().endswith(tuple(image_formats)):\n",
    "            images.append(file)\n",
    "    if len(images)!=0:\n",
    "        print(\"Images are in format:\",images[0].split('.')[1],\"count:\",len(images))\n",
    "    return images\n",
    "\n",
    "file_handling(dataset_path)"
   ]
  },
  {
   "cell_type": "code",
   "execution_count": 102,
   "id": "95464368-b844-4363-83d0-26ca09ef9b05",
   "metadata": {},
   "outputs": [
    {
     "name": "stdout",
     "output_type": "stream",
     "text": [
      "In path: C:\\Swapnil\\Narrowband_DRONE\\Drone_dataset_small_1\n",
      "Files: 5\n",
      "Images are in format: jpg count: 3\n",
      "Compressed directory already exists\n",
      "For Image: sample.jpg\n",
      "For Image: Test_img.jpg\n",
      "Try again using resize\n",
      "For Image: tokyo_tower.jpg\n",
      "Try again using resize\n"
     ]
    }
   ],
   "source": [
    "\n",
    "def resize_to_FHD(img):\n",
    "    # Open the image using Pillow\n",
    "    #img = Image.open(img_path)\n",
    "    resized_img = img.resize((1920, 1080))\n",
    "    return resized_img\n",
    "        \n",
    "\n",
    "\n",
    "def compress(dataset_path,model,quality,metric):\n",
    "    \"\"\"\n",
    "        Results of first stage compression are saved as the .webp image\n",
    "    \"\"\"\n",
    "    #checking the input parameters\n",
    "    if model==\"cheng2020_attn\" or model==\"cheng2020_anchor\":\n",
    "        if quality>6 or quality <1 or metric not in [\"mse\",\"ms-ssim\"]:\n",
    "            print(\"Invalid quality or metric value\")\n",
    "            return \n",
    "    elif quality>8 or quality <1 or metric not in [\"mse\",\"ms-ssim\"]:\n",
    "        print(\"Invalid quality or metric value\")\n",
    "        return \n",
    "\n",
    "    images=file_handling(dataset_path) #get the images list for the compression \n",
    "    export_path=os.path.join(dataset_path,\"compressed\")\n",
    "    \n",
    "    try:\n",
    "        os.mkdir(export_path)\n",
    "    except:\n",
    "        print(\"Compressed directory already exists\")\n",
    "        \n",
    "\n",
    "    for image in images:\n",
    "        #load the image using Pillow\n",
    "        print(\"For Image:\",image)\n",
    "        img=Image.open(os.path.join(dataset_path,image))\n",
    "        \n",
    "\n",
    "        #transform the loaded image to the tensor\n",
    "        x=transforms.ToTensor()(img).unsqueeze(0).to(device)\n",
    "        \n",
    "        #perform compression using the DL model\n",
    "        try:\n",
    "            with torch.no_grad():\n",
    "                out_net=net.forward(x)\n",
    "                obj=out_net['x_hat'] #save the output of the network\n",
    "            obj.clamp(0,1)\n",
    "        except:\n",
    "            print(\"Try again using resize\")\n",
    "            img=resize_to_FHD(img)\n",
    "            x=transforms.ToTensor()(img).unsqueeze(0).to(device)\n",
    "            try:\n",
    "                with torch.no_grad():\n",
    "                    out_net=net.forward(x)\n",
    "                    obj=out_net['x_hat'] #save the output of the network\n",
    "                obj.clamp(0,1)\n",
    "            except:\n",
    "                print(\"Failed again\")\n",
    "                return \n",
    "            \n",
    "\n",
    "        #save the output of the network as the image using the save_image method\n",
    "        name=image.split('.')[0]+\"_c.webp\"\n",
    "        name_export=os.path.join(export_path,name)\n",
    "        save_image(obj,name_export)\n",
    "\n",
    "    return export_path\n",
    "        \n",
    "\n",
    "export_path=compress(dataset_path,net,8,\"ms-ssim\")\n",
    "        \n",
    "\n",
    "\n",
    "    "
   ]
  },
  {
   "cell_type": "code",
   "execution_count": 103,
   "id": "c9256f07-8bd1-4dc7-befb-ee3a7dc6bf68",
   "metadata": {},
   "outputs": [
    {
     "name": "stdout",
     "output_type": "stream",
     "text": [
      "In path: C:\\Swapnil\\Narrowband_DRONE\\Drone_dataset_small_1\\compressed\n",
      "Files: 3\n",
      "Images are in format: webp count: 3\n"
     ]
    }
   ],
   "source": [
    "def compress_stage_2(export_path):\n",
    "\n",
    "    images=file_handling(export_path)\n",
    "\n",
    "    for image in images:\n",
    "        img_path=os.path.join(export_path,image)\n",
    "        img=Image.open(img_path)\n",
    "        #now export the image as the avif file\n",
    "        img_name=image.split('.')[1]+\"_c.avif\"\n",
    "        img_path_export=os.path.join(img_path,img_name)\n",
    "        img.save(img_path,format=\"AVIF\",quality=50)\n",
    "        \n",
    "\n",
    "compress_stage_2(export_path)"
   ]
  },
  {
   "cell_type": "code",
   "execution_count": null,
   "id": "55a57b26-56c0-4cef-8ce3-88c4692ce182",
   "metadata": {},
   "outputs": [],
   "source": []
  }
 ],
 "metadata": {
  "kernelspec": {
   "display_name": "Python 3 (ipykernel)",
   "language": "python",
   "name": "python3"
  },
  "language_info": {
   "codemirror_mode": {
    "name": "ipython",
    "version": 3
   },
   "file_extension": ".py",
   "mimetype": "text/x-python",
   "name": "python",
   "nbconvert_exporter": "python",
   "pygments_lexer": "ipython3",
   "version": "3.12.0"
  }
 },
 "nbformat": 4,
 "nbformat_minor": 5
}
